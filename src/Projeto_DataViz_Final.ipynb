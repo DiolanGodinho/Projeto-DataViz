{
 "cells": [
  {
   "cell_type": "markdown",
   "metadata": {},
   "source": [
    "# SOMENTE O ITEM 1 É OBRIGATÓRIO PARA APRESENTAÇÃO!"
   ]
  },
  {
   "cell_type": "markdown",
   "metadata": {},
   "source": [
    "# História das Olimpíadas - Parte 2\n",
    "_(créditos ao prof. Rafael Moreira)_"
   ]
  },
  {
   "cell_type": "markdown",
   "metadata": {},
   "source": [
    "Você recentemente trabalhou (ou está trabalhando) em uma análise de dados históricos dos jogos olímpicos utilizando o Pandas para auxiliá-lo.\n",
    "\n",
    "Desde que você iniciou seus trabalhos nesse projeto, novas ferramentas bastante poderosas foram ensinadas! O seu papel agora será utilizar essas novas ferramentas para gerar algumas visualizações que tornarão certas informações muito mais claras.\n",
    "\n",
    "Utilize qualquer uma das bibliotecas estudadas (```matplotlib```, ```seaborn``` e ```plotly```) para realizar as atividades propostas. Não há problema em usar apenas uma para realizar todas as atividades, nem em utilizar cada uma delas em uma atividade diferente - siga suas preferências pessoais!\n",
    "\n",
    "Utilize os (muitos) parâmetros permitidos por cada função e/ou atributos dos objetos fornecidos pelas bibliotecas para criar uma identidade visual coesa para ser utilizada em todo o projeto. Use títulos, legendas e rótulos nos eixos para deixar os gráficos verdadeiramente informativos. E não se esqueça que a simples escolha das cores a serem utilizadas pode tornar os gráficos ainda mais interessantes!\n",
    "\n",
    "Você utilizará o mesmo dataset fornecido no projeto anterior. Não há problemas em reaproveitar códigos do projeto anterior para economizar tempo e focar seus esforços na geração dos gráficos.\n",
    "\n",
    "Para começar, importe o Pandas e carregue o arquivo ```athlete_events.csv``` fornecido no projeto anterior."
   ]
  },
  {
   "cell_type": "code",
   "execution_count": 1,
   "metadata": {
    "ExecuteTime": {
     "end_time": "2021-10-29T14:12:13.516766Z",
     "start_time": "2021-10-29T14:12:12.565586Z"
    }
   },
   "outputs": [],
   "source": [
    "import plotly.express as px\n",
    "import pandas as pd\n",
    "import seaborn as sns\n",
    "import matplotlib.pyplot as plt\n",
    "import plotly.graph_objects as go\n",
    "\n",
    "%matplotlib inline\n",
    "sns.set()"
   ]
  },
  {
   "cell_type": "code",
   "execution_count": 4,
   "metadata": {
    "ExecuteTime": {
     "end_time": "2021-10-29T14:12:14.054506Z",
     "start_time": "2021-10-29T14:12:13.518338Z"
    }
   },
   "outputs": [
    {
     "ename": "FileNotFoundError",
     "evalue": "[Errno 2] No such file or directory: '../data/athlete_events.csv'",
     "output_type": "error",
     "traceback": [
      "\u001b[1;31m---------------------------------------------------------------------------\u001b[0m",
      "\u001b[1;31mFileNotFoundError\u001b[0m                         Traceback (most recent call last)",
      "\u001b[1;32m~\\AppData\\Local\\Temp/ipykernel_8624/2649802192.py\u001b[0m in \u001b[0;36m<module>\u001b[1;34m\u001b[0m\n\u001b[0;32m      6\u001b[0m     \u001b[1;34m'Bronze'\u001b[0m\u001b[1;33m:\u001b[0m \u001b[1;34m'darkgoldenrod'\u001b[0m\u001b[1;33m,\u001b[0m\u001b[1;33m\u001b[0m\u001b[1;33m\u001b[0m\u001b[0m\n\u001b[0;32m      7\u001b[0m     }\n\u001b[1;32m----> 8\u001b[1;33m \u001b[0mdf\u001b[0m \u001b[1;33m=\u001b[0m \u001b[0mpd\u001b[0m\u001b[1;33m.\u001b[0m\u001b[0mread_csv\u001b[0m\u001b[1;33m(\u001b[0m\u001b[1;34m'../data/athlete_events.csv'\u001b[0m\u001b[1;33m)\u001b[0m\u001b[1;33m\u001b[0m\u001b[1;33m\u001b[0m\u001b[0m\n\u001b[0m\u001b[0;32m      9\u001b[0m \u001b[0mdf\u001b[0m\u001b[1;33m.\u001b[0m\u001b[0mhead\u001b[0m\u001b[1;33m(\u001b[0m\u001b[1;36m10\u001b[0m\u001b[1;33m)\u001b[0m\u001b[1;33m\u001b[0m\u001b[1;33m\u001b[0m\u001b[0m\n",
      "\u001b[1;32mc:\\users\\uiuiu\\appdata\\local\\programs\\python\\python39\\lib\\site-packages\\pandas\\io\\parsers.py\u001b[0m in \u001b[0;36mread_csv\u001b[1;34m(filepath_or_buffer, sep, delimiter, header, names, index_col, usecols, squeeze, prefix, mangle_dupe_cols, dtype, engine, converters, true_values, false_values, skipinitialspace, skiprows, skipfooter, nrows, na_values, keep_default_na, na_filter, verbose, skip_blank_lines, parse_dates, infer_datetime_format, keep_date_col, date_parser, dayfirst, cache_dates, iterator, chunksize, compression, thousands, decimal, lineterminator, quotechar, quoting, doublequote, escapechar, comment, encoding, dialect, error_bad_lines, warn_bad_lines, delim_whitespace, low_memory, memory_map, float_precision, storage_options)\u001b[0m\n\u001b[0;32m    608\u001b[0m     \u001b[0mkwds\u001b[0m\u001b[1;33m.\u001b[0m\u001b[0mupdate\u001b[0m\u001b[1;33m(\u001b[0m\u001b[0mkwds_defaults\u001b[0m\u001b[1;33m)\u001b[0m\u001b[1;33m\u001b[0m\u001b[1;33m\u001b[0m\u001b[0m\n\u001b[0;32m    609\u001b[0m \u001b[1;33m\u001b[0m\u001b[0m\n\u001b[1;32m--> 610\u001b[1;33m     \u001b[1;32mreturn\u001b[0m \u001b[0m_read\u001b[0m\u001b[1;33m(\u001b[0m\u001b[0mfilepath_or_buffer\u001b[0m\u001b[1;33m,\u001b[0m \u001b[0mkwds\u001b[0m\u001b[1;33m)\u001b[0m\u001b[1;33m\u001b[0m\u001b[1;33m\u001b[0m\u001b[0m\n\u001b[0m\u001b[0;32m    611\u001b[0m \u001b[1;33m\u001b[0m\u001b[0m\n\u001b[0;32m    612\u001b[0m \u001b[1;33m\u001b[0m\u001b[0m\n",
      "\u001b[1;32mc:\\users\\uiuiu\\appdata\\local\\programs\\python\\python39\\lib\\site-packages\\pandas\\io\\parsers.py\u001b[0m in \u001b[0;36m_read\u001b[1;34m(filepath_or_buffer, kwds)\u001b[0m\n\u001b[0;32m    460\u001b[0m \u001b[1;33m\u001b[0m\u001b[0m\n\u001b[0;32m    461\u001b[0m     \u001b[1;31m# Create the parser.\u001b[0m\u001b[1;33m\u001b[0m\u001b[1;33m\u001b[0m\u001b[1;33m\u001b[0m\u001b[0m\n\u001b[1;32m--> 462\u001b[1;33m     \u001b[0mparser\u001b[0m \u001b[1;33m=\u001b[0m \u001b[0mTextFileReader\u001b[0m\u001b[1;33m(\u001b[0m\u001b[0mfilepath_or_buffer\u001b[0m\u001b[1;33m,\u001b[0m \u001b[1;33m**\u001b[0m\u001b[0mkwds\u001b[0m\u001b[1;33m)\u001b[0m\u001b[1;33m\u001b[0m\u001b[1;33m\u001b[0m\u001b[0m\n\u001b[0m\u001b[0;32m    463\u001b[0m \u001b[1;33m\u001b[0m\u001b[0m\n\u001b[0;32m    464\u001b[0m     \u001b[1;32mif\u001b[0m \u001b[0mchunksize\u001b[0m \u001b[1;32mor\u001b[0m \u001b[0miterator\u001b[0m\u001b[1;33m:\u001b[0m\u001b[1;33m\u001b[0m\u001b[1;33m\u001b[0m\u001b[0m\n",
      "\u001b[1;32mc:\\users\\uiuiu\\appdata\\local\\programs\\python\\python39\\lib\\site-packages\\pandas\\io\\parsers.py\u001b[0m in \u001b[0;36m__init__\u001b[1;34m(self, f, engine, **kwds)\u001b[0m\n\u001b[0;32m    817\u001b[0m             \u001b[0mself\u001b[0m\u001b[1;33m.\u001b[0m\u001b[0moptions\u001b[0m\u001b[1;33m[\u001b[0m\u001b[1;34m\"has_index_names\"\u001b[0m\u001b[1;33m]\u001b[0m \u001b[1;33m=\u001b[0m \u001b[0mkwds\u001b[0m\u001b[1;33m[\u001b[0m\u001b[1;34m\"has_index_names\"\u001b[0m\u001b[1;33m]\u001b[0m\u001b[1;33m\u001b[0m\u001b[1;33m\u001b[0m\u001b[0m\n\u001b[0;32m    818\u001b[0m \u001b[1;33m\u001b[0m\u001b[0m\n\u001b[1;32m--> 819\u001b[1;33m         \u001b[0mself\u001b[0m\u001b[1;33m.\u001b[0m\u001b[0m_engine\u001b[0m \u001b[1;33m=\u001b[0m \u001b[0mself\u001b[0m\u001b[1;33m.\u001b[0m\u001b[0m_make_engine\u001b[0m\u001b[1;33m(\u001b[0m\u001b[0mself\u001b[0m\u001b[1;33m.\u001b[0m\u001b[0mengine\u001b[0m\u001b[1;33m)\u001b[0m\u001b[1;33m\u001b[0m\u001b[1;33m\u001b[0m\u001b[0m\n\u001b[0m\u001b[0;32m    820\u001b[0m \u001b[1;33m\u001b[0m\u001b[0m\n\u001b[0;32m    821\u001b[0m     \u001b[1;32mdef\u001b[0m \u001b[0mclose\u001b[0m\u001b[1;33m(\u001b[0m\u001b[0mself\u001b[0m\u001b[1;33m)\u001b[0m\u001b[1;33m:\u001b[0m\u001b[1;33m\u001b[0m\u001b[1;33m\u001b[0m\u001b[0m\n",
      "\u001b[1;32mc:\\users\\uiuiu\\appdata\\local\\programs\\python\\python39\\lib\\site-packages\\pandas\\io\\parsers.py\u001b[0m in \u001b[0;36m_make_engine\u001b[1;34m(self, engine)\u001b[0m\n\u001b[0;32m   1048\u001b[0m             )\n\u001b[0;32m   1049\u001b[0m         \u001b[1;31m# error: Too many arguments for \"ParserBase\"\u001b[0m\u001b[1;33m\u001b[0m\u001b[1;33m\u001b[0m\u001b[1;33m\u001b[0m\u001b[0m\n\u001b[1;32m-> 1050\u001b[1;33m         \u001b[1;32mreturn\u001b[0m \u001b[0mmapping\u001b[0m\u001b[1;33m[\u001b[0m\u001b[0mengine\u001b[0m\u001b[1;33m]\u001b[0m\u001b[1;33m(\u001b[0m\u001b[0mself\u001b[0m\u001b[1;33m.\u001b[0m\u001b[0mf\u001b[0m\u001b[1;33m,\u001b[0m \u001b[1;33m**\u001b[0m\u001b[0mself\u001b[0m\u001b[1;33m.\u001b[0m\u001b[0moptions\u001b[0m\u001b[1;33m)\u001b[0m  \u001b[1;31m# type: ignore[call-arg]\u001b[0m\u001b[1;33m\u001b[0m\u001b[1;33m\u001b[0m\u001b[0m\n\u001b[0m\u001b[0;32m   1051\u001b[0m \u001b[1;33m\u001b[0m\u001b[0m\n\u001b[0;32m   1052\u001b[0m     \u001b[1;32mdef\u001b[0m \u001b[0m_failover_to_python\u001b[0m\u001b[1;33m(\u001b[0m\u001b[0mself\u001b[0m\u001b[1;33m)\u001b[0m\u001b[1;33m:\u001b[0m\u001b[1;33m\u001b[0m\u001b[1;33m\u001b[0m\u001b[0m\n",
      "\u001b[1;32mc:\\users\\uiuiu\\appdata\\local\\programs\\python\\python39\\lib\\site-packages\\pandas\\io\\parsers.py\u001b[0m in \u001b[0;36m__init__\u001b[1;34m(self, src, **kwds)\u001b[0m\n\u001b[0;32m   1865\u001b[0m \u001b[1;33m\u001b[0m\u001b[0m\n\u001b[0;32m   1866\u001b[0m         \u001b[1;31m# open handles\u001b[0m\u001b[1;33m\u001b[0m\u001b[1;33m\u001b[0m\u001b[1;33m\u001b[0m\u001b[0m\n\u001b[1;32m-> 1867\u001b[1;33m         \u001b[0mself\u001b[0m\u001b[1;33m.\u001b[0m\u001b[0m_open_handles\u001b[0m\u001b[1;33m(\u001b[0m\u001b[0msrc\u001b[0m\u001b[1;33m,\u001b[0m \u001b[0mkwds\u001b[0m\u001b[1;33m)\u001b[0m\u001b[1;33m\u001b[0m\u001b[1;33m\u001b[0m\u001b[0m\n\u001b[0m\u001b[0;32m   1868\u001b[0m         \u001b[1;32massert\u001b[0m \u001b[0mself\u001b[0m\u001b[1;33m.\u001b[0m\u001b[0mhandles\u001b[0m \u001b[1;32mis\u001b[0m \u001b[1;32mnot\u001b[0m \u001b[1;32mNone\u001b[0m\u001b[1;33m\u001b[0m\u001b[1;33m\u001b[0m\u001b[0m\n\u001b[0;32m   1869\u001b[0m         \u001b[1;32mfor\u001b[0m \u001b[0mkey\u001b[0m \u001b[1;32min\u001b[0m \u001b[1;33m(\u001b[0m\u001b[1;34m\"storage_options\"\u001b[0m\u001b[1;33m,\u001b[0m \u001b[1;34m\"encoding\"\u001b[0m\u001b[1;33m,\u001b[0m \u001b[1;34m\"memory_map\"\u001b[0m\u001b[1;33m,\u001b[0m \u001b[1;34m\"compression\"\u001b[0m\u001b[1;33m)\u001b[0m\u001b[1;33m:\u001b[0m\u001b[1;33m\u001b[0m\u001b[1;33m\u001b[0m\u001b[0m\n",
      "\u001b[1;32mc:\\users\\uiuiu\\appdata\\local\\programs\\python\\python39\\lib\\site-packages\\pandas\\io\\parsers.py\u001b[0m in \u001b[0;36m_open_handles\u001b[1;34m(self, src, kwds)\u001b[0m\n\u001b[0;32m   1360\u001b[0m         \u001b[0mLet\u001b[0m \u001b[0mthe\u001b[0m \u001b[0mreaders\u001b[0m \u001b[0mopen\u001b[0m \u001b[0mIOHanldes\u001b[0m \u001b[0mafter\u001b[0m \u001b[0mthey\u001b[0m \u001b[0mare\u001b[0m \u001b[0mdone\u001b[0m \u001b[1;32mwith\u001b[0m \u001b[0mtheir\u001b[0m \u001b[0mpotential\u001b[0m \u001b[0mraises\u001b[0m\u001b[1;33m.\u001b[0m\u001b[1;33m\u001b[0m\u001b[1;33m\u001b[0m\u001b[0m\n\u001b[0;32m   1361\u001b[0m         \"\"\"\n\u001b[1;32m-> 1362\u001b[1;33m         self.handles = get_handle(\n\u001b[0m\u001b[0;32m   1363\u001b[0m             \u001b[0msrc\u001b[0m\u001b[1;33m,\u001b[0m\u001b[1;33m\u001b[0m\u001b[1;33m\u001b[0m\u001b[0m\n\u001b[0;32m   1364\u001b[0m             \u001b[1;34m\"r\"\u001b[0m\u001b[1;33m,\u001b[0m\u001b[1;33m\u001b[0m\u001b[1;33m\u001b[0m\u001b[0m\n",
      "\u001b[1;32mc:\\users\\uiuiu\\appdata\\local\\programs\\python\\python39\\lib\\site-packages\\pandas\\io\\common.py\u001b[0m in \u001b[0;36mget_handle\u001b[1;34m(path_or_buf, mode, encoding, compression, memory_map, is_text, errors, storage_options)\u001b[0m\n\u001b[0;32m    645\u001b[0m                 \u001b[0merrors\u001b[0m \u001b[1;33m=\u001b[0m \u001b[1;34m\"replace\"\u001b[0m\u001b[1;33m\u001b[0m\u001b[1;33m\u001b[0m\u001b[0m\n\u001b[0;32m    646\u001b[0m             \u001b[1;31m# Encoding\u001b[0m\u001b[1;33m\u001b[0m\u001b[1;33m\u001b[0m\u001b[1;33m\u001b[0m\u001b[0m\n\u001b[1;32m--> 647\u001b[1;33m             handle = open(\n\u001b[0m\u001b[0;32m    648\u001b[0m                 \u001b[0mhandle\u001b[0m\u001b[1;33m,\u001b[0m\u001b[1;33m\u001b[0m\u001b[1;33m\u001b[0m\u001b[0m\n\u001b[0;32m    649\u001b[0m                 \u001b[0mioargs\u001b[0m\u001b[1;33m.\u001b[0m\u001b[0mmode\u001b[0m\u001b[1;33m,\u001b[0m\u001b[1;33m\u001b[0m\u001b[1;33m\u001b[0m\u001b[0m\n",
      "\u001b[1;31mFileNotFoundError\u001b[0m: [Errno 2] No such file or directory: '../data/athlete_events.csv'"
     ]
    }
   ],
   "source": [
    "import pandas as pd\n",
    "# path = os.getcwd()\n",
    "cores = {\n",
    "    'Gold': 'gold',\n",
    "    'Silver': 'grey',\n",
    "    'Bronze': 'darkgoldenrod',\n",
    "    }\n",
    "df = pd.read_csv('../data/athlete_events.csv')\n",
    "df.head(10)"
   ]
  },
  {
   "cell_type": "code",
   "execution_count": null,
   "metadata": {
    "ExecuteTime": {
     "end_time": "2021-10-29T14:12:14.175192Z",
     "start_time": "2021-10-29T14:12:14.055645Z"
    }
   },
   "outputs": [],
   "source": [
    "# Vamos remover os competidores com o time desconhecido para que o ranking dos países seja mais preciso \n",
    "# e substituir os espaços vazios na coluna de medalhas para que seja mais fácil trabalhar com esses dados.\n",
    "# Além disso, vamos eliminar a coluna 'Games' pois a informação contida nela já se encontra nas colunas \n",
    "# 'Year' e 'Season'\n",
    "df = df[df['Team'] != 'Unknown']\n",
    "df['Medal'].fillna('No medal', inplace= True)\n",
    "df.drop(columns='Games')"
   ]
  },
  {
   "cell_type": "code",
   "execution_count": null,
   "metadata": {
    "ExecuteTime": {
     "end_time": "2021-10-29T14:12:14.796815Z",
     "start_time": "2021-10-29T14:12:14.177457Z"
    }
   },
   "outputs": [],
   "source": [
    "# Precisamos aplicar essa função para analisarmos, por exemplo, 'Brasil' e 'Brasil-2' como apenas um país.\n",
    "import re\n",
    "def padroniza_pais(pais):\n",
    "  return re.sub(r'(^[a-zA-Z0-9_ ]*)([-,/])([a-zA-Z0-9_ ]*$)', r\"\\1\", pais)\n",
    "\n",
    "df['Team'] = df['Team'].apply(padroniza_pais)"
   ]
  },
  {
   "cell_type": "code",
   "execution_count": null,
   "metadata": {
    "ExecuteTime": {
     "end_time": "2021-10-29T14:12:14.855527Z",
     "start_time": "2021-10-29T14:12:14.798287Z"
    },
    "tags": []
   },
   "outputs": [],
   "source": [
    "# Nos primeiros jogos, principalmente, haviam equipes representando clubes, associações, universidades, etc.\n",
    "# Assim, como todos estão associados a um 'NOC', escolhemos, para cada NOC, a equipe com mais registros.\n",
    "\n",
    "repr_noc = df.groupby(['NOC', 'Team']).size().sort_values(ascending=False).reset_index()\n",
    "repr_noc = repr_noc[['NOC', 'Team']].drop_duplicates(['NOC']).to_dict()\n",
    "repr_noc = {repr_noc['NOC'][i]: repr_noc['Team'][i] for i in repr_noc['NOC']}\n",
    "repr_noc"
   ]
  },
  {
   "cell_type": "code",
   "execution_count": null,
   "metadata": {
    "ExecuteTime": {
     "end_time": "2021-10-29T14:12:14.874642Z",
     "start_time": "2021-10-29T14:12:14.856644Z"
    }
   },
   "outputs": [],
   "source": [
    "# Atualizamos a coluna 'Team' com o representa 'padrao' do 'NOC' correpondente\n",
    "df['Team'] = df['NOC'].map(repr_noc)"
   ]
  },
  {
   "cell_type": "markdown",
   "metadata": {},
   "source": [
    "## 1. O Brasil nas Olimpíadas\n",
    "\n",
    "Vamos começar filtrando novamente os dados que iremos trabalhar. Crie um DataFrame contendo apenas informações sobre atletas **medalhistas** brasileiros."
   ]
  },
  {
   "cell_type": "code",
   "execution_count": null,
   "metadata": {
    "ExecuteTime": {
     "end_time": "2021-10-29T14:12:14.904650Z",
     "start_time": "2021-10-29T14:12:14.876252Z"
    }
   },
   "outputs": [],
   "source": [
    "df_br = df[df['Team'] == 'Brazil'].copy()\n",
    "df_medalhistas_br = df_br[df_br['Medal'] != 'No medal']\n",
    "df_medalhistas_br\n",
    "df_medalhas_por_evento_br = df_medalhistas_br.drop_duplicates(subset=['Event','Year','Medal'])\n",
    "df_evento_br = df_br.drop_duplicates(subset=['Event','Year','Medal'])"
   ]
  },
  {
   "cell_type": "markdown",
   "metadata": {},
   "source": [
    "Vamos caracterizar fisicamente nossos medalhistas, verificando se há alguma correlação entre o desempenho em certos esportes e o tipo físico dos atletas. \n",
    "\n",
    "Gere um gráfico de barras contendo os diferentes esportes no eixo X e a altura dos atletas no eixo Y. Utilize barras lado-a-lado para separar atletas do sexo masculino e feminino."
   ]
  },
  {
   "cell_type": "code",
   "execution_count": null,
   "metadata": {
    "ExecuteTime": {
     "end_time": "2021-10-29T14:12:15.168072Z",
     "start_time": "2021-10-29T14:12:14.906452Z"
    }
   },
   "outputs": [],
   "source": [
    "plt.figure(figsize=(8, 6))\n",
    "sns.barplot(data=df_medalhistas_br, x='Sport', y='Height', hue='Sex', ci=None)\n",
    "\n",
    "plt.xticks(rotation=60, rotation_mode='anchor', ha='right')\n",
    "plt.legend(bbox_to_anchor=(1, 1))\n",
    "plt.title('Altura Média dos Medalhistas Brasileiros por Esporte', loc='left')\n",
    "\n",
    "plt.show()"
   ]
  },
  {
   "cell_type": "markdown",
   "metadata": {},
   "source": [
    "Agora gere um gráfico semelhante ilustrando o peso dos atletas."
   ]
  },
  {
   "cell_type": "code",
   "execution_count": null,
   "metadata": {
    "ExecuteTime": {
     "end_time": "2021-10-29T14:12:15.409714Z",
     "start_time": "2021-10-29T14:12:15.169644Z"
    }
   },
   "outputs": [],
   "source": [
    "plt.figure(figsize=(8, 6))\n",
    "sns.barplot(data=df_medalhistas_br, x='Sport', y='Weight', hue='Sex', ci=None)\n",
    "\n",
    "plt.xticks(rotation=60, rotation_mode='anchor', ha='right')\n",
    "plt.legend(bbox_to_anchor=(1, 1))\n",
    "plt.title('Peso Média dos Medalhistas Brasileiros por Esporte', loc='left')\n",
    "\n",
    "plt.show()"
   ]
  },
  {
   "cell_type": "markdown",
   "metadata": {},
   "source": [
    "Vamos analisar agora as medalhas que nossos atletas trouxeram para casa.\n",
    "\n",
    "Encontre os maiores medalhistas brasileiros em **total de medalhas**. Em seguida, faça um gráfico de barras empilhadas. No eixo X coloque o nome dos atletas, e no eixo Y coloque o número de medalhas. Utilize as barras empilhadas para mostrar, respectivamente, as medalhas de bronze, prata e ouro de cada atleta."
   ]
  },
  {
   "cell_type": "code",
   "execution_count": null,
   "metadata": {
    "ExecuteTime": {
     "end_time": "2021-10-29T14:12:15.422622Z",
     "start_time": "2021-10-29T14:12:15.414149Z"
    }
   },
   "outputs": [],
   "source": [
    "medalhas_por_atleta_br = df_medalhistas_br.groupby('Name')['Medal'].count()\n",
    "\n",
    "maximo = medalhas_por_atleta_br.max()\n",
    "\n",
    "brasileiros_mais_medalhas = medalhas_por_atleta_br[medalhas_por_atleta_br == maximo]\n",
    "\n",
    "brasileiros_mais_medalhas\n"
   ]
  },
  {
   "cell_type": "code",
   "execution_count": null,
   "metadata": {
    "ExecuteTime": {
     "end_time": "2021-10-29T14:12:15.428301Z",
     "start_time": "2021-10-29T14:12:15.423941Z"
    }
   },
   "outputs": [],
   "source": [
    "def padroniza_df_unstack(df):\n",
    "    df.fillna(0,inplace= True)\n",
    "    df['Total Medalhas'] = df[['Silver', 'Bronze', 'Gold']].sum(axis=1)\n",
    "    df['Silver + Bronze'] = df[['Silver','Bronze']].sum(axis=1) \n",
    "\n",
    "def cria_dfs_para_graficos(series, name='Qtde'):\n",
    "    df_unstack = series.unstack(fill_value=0).reset_index()\n",
    "    df_medalhas = series.reset_index(name = name)\n",
    "    padroniza_df_unstack(df_unstack)\n",
    "    return df_unstack, df_medalhas"
   ]
  },
  {
   "cell_type": "code",
   "execution_count": null,
   "metadata": {
    "ExecuteTime": {
     "end_time": "2021-10-29T14:12:15.443953Z",
     "start_time": "2021-10-29T14:12:15.431125Z"
    }
   },
   "outputs": [],
   "source": [
    "se_brasileiros_mais_medalhas = df_medalhistas_br[df_medalhistas_br['Name'].isin(brasileiros_mais_medalhas.index.to_list())].groupby(['Name', 'Medal']).size()#.unstack().reset_index()\n",
    "\n",
    "df_brasileiros_mais_medalhas_unstack, df_brasileiros_mais_medalhas = cria_dfs_para_graficos(se_brasileiros_mais_medalhas)"
   ]
  },
  {
   "cell_type": "code",
   "execution_count": null,
   "metadata": {
    "ExecuteTime": {
     "end_time": "2021-10-29T14:12:15.453715Z",
     "start_time": "2021-10-29T14:12:15.445938Z"
    }
   },
   "outputs": [],
   "source": [
    "def plot_medalhas_empilhadas(df, eixo_x = 'Name', ylabel='Total Medalhas',xlabel=None,title = None, orient='v',figsize=(8,5),rotation=0,label=False,top=False):\n",
    "    fig, ax = plt.subplots(figsize=figsize)\n",
    "    medalhas = {\n",
    "    'Gold': {'coluna':'Total Medalhas','cor':'gold'},\n",
    "    'Silver': {'coluna':'Silver + Bronze','cor':'grey'},\n",
    "    'Bronze': {'coluna':'Bronze','cor':'darkgoldenrod'},\n",
    "    }\n",
    "    \n",
    "    x_aux = eixo_x\n",
    "    for k,v in medalhas.items():\n",
    "        eixo_y = v['coluna']\n",
    "        if orient == 'h':\n",
    "            eixo_x, eixo_y = eixo_y, x_aux\n",
    "        sns.barplot(data=df, x=eixo_x ,y = eixo_y, color=v['cor'], label=k , orient=orient)\n",
    "        if label:\n",
    "            plt.bar_label(ax.containers[-1],labels=df[k])\n",
    "\n",
    "    ax.tick_params(labeltop=top)\n",
    "    plt.legend(bbox_to_anchor=(1, 1))\n",
    "    plt.ylabel(ylabel)\n",
    "    plt.xlabel(xlabel)\n",
    "    plt.title(title)\n",
    "    plt.xticks(rotation = rotation)\n",
    "    plt.tight_layout()\n",
    "    plt.show()"
   ]
  },
  {
   "cell_type": "code",
   "execution_count": null,
   "metadata": {
    "ExecuteTime": {
     "end_time": "2021-10-29T14:12:15.460833Z",
     "start_time": "2021-10-29T14:12:15.455169Z"
    }
   },
   "outputs": [],
   "source": [
    "def plot_medalhas(df, title, x, y='Qtde', figsize=(8,5), rotation=0, xlabel=None, line=True, xgrid=False, cores=cores):\n",
    "    fig, ax = plt.subplots(figsize=figsize)\n",
    "    \n",
    "    sns.barplot(data=df, x=x, y=y, hue='Medal', hue_order=cores.keys(), palette=cores)\n",
    "    if line:\n",
    "        total = df.groupby(x).sum()\n",
    "        sns.lineplot(data=total, x=total.index, y=y, linestyle='--', marker='o', color='silver', label='Total Medalhas')\n",
    "        \n",
    "    if xgrid:\n",
    "        ax.grid(axis=\"x\", color=\"green\", alpha=.1, linewidth=1, linestyle=\":\")\n",
    "    plt.legend(bbox_to_anchor=(1, 1))\n",
    "    ax.tick_params(bottom=True)\n",
    "    if rotation:\n",
    "        plt.xticks(rotation = rotation, ha='left', rotation_mode='anchor')\n",
    "    plt.xlabel(xlabel)\n",
    "    plt.title(title)\n",
    "    plt.show()"
   ]
  },
  {
   "cell_type": "code",
   "execution_count": null,
   "metadata": {
    "ExecuteTime": {
     "end_time": "2021-10-29T14:12:15.657366Z",
     "start_time": "2021-10-29T14:12:15.463155Z"
    }
   },
   "outputs": [],
   "source": [
    "plot_medalhas_empilhadas(df_brasileiros_mais_medalhas_unstack, \n",
    "                         xlabel='Atletas', \n",
    "                         title='Maiores Medalhistas Brasileiros (I)',\n",
    "                         label=True)"
   ]
  },
  {
   "cell_type": "code",
   "execution_count": null,
   "metadata": {
    "ExecuteTime": {
     "end_time": "2021-10-29T14:12:15.806549Z",
     "start_time": "2021-10-29T14:12:15.658542Z"
    }
   },
   "outputs": [],
   "source": [
    "plot_medalhas(df_brasileiros_mais_medalhas, \n",
    "              title='Maiores Medalhistas Brasileiros (II)', \n",
    "              x='Name', \n",
    "              line=False)"
   ]
  },
  {
   "cell_type": "markdown",
   "metadata": {},
   "source": [
    "Agora gere o mesmo gráfico de barras empilhadas substituindo os nomes dos atletas pelo nome de todos os esportes onde o Brasil já ganhou medalhas.\n",
    "\n",
    "**DICA:** tome muito cuidado nessa análise: cada **evento esportivo** rende 1 medalha. Por exemplo, quando a equipe de futebol vence, isso é considerado 1 medalha, mesmo tendo cerca de 20 atletas medalhistas na equipe. "
   ]
  },
  {
   "cell_type": "code",
   "execution_count": null,
   "metadata": {
    "ExecuteTime": {
     "end_time": "2021-10-29T14:12:15.818627Z",
     "start_time": "2021-10-29T14:12:15.807695Z"
    }
   },
   "outputs": [],
   "source": [
    "se_medalhas_por_esporte_br = df_medalhas_por_evento_br.groupby(['Sport','Medal']).size()\n",
    "\n",
    "df_medalhas_esporte_unstack, df_medalhas_esporte = cria_dfs_para_graficos(se_medalhas_por_esporte_br)"
   ]
  },
  {
   "cell_type": "code",
   "execution_count": null,
   "metadata": {
    "ExecuteTime": {
     "end_time": "2021-10-29T14:12:16.199379Z",
     "start_time": "2021-10-29T14:12:15.819867Z"
    }
   },
   "outputs": [],
   "source": [
    "plot_medalhas_empilhadas(df_medalhas_esporte_unstack, \n",
    "                         eixo_x='Sport', \n",
    "                         figsize=(10,7), \n",
    "                         orient = 'h', \n",
    "                         title='Medalhas por Esporte Brasil (I)',\n",
    "                         ylabel='Esportes',\n",
    "                         xlabel='Total medalhas')"
   ]
  },
  {
   "cell_type": "code",
   "execution_count": null,
   "metadata": {
    "ExecuteTime": {
     "end_time": "2021-10-29T14:12:16.616585Z",
     "start_time": "2021-10-29T14:12:16.201016Z"
    }
   },
   "outputs": [],
   "source": [
    "plot_medalhas(df_medalhas_esporte, \n",
    "              title='Medalhas por Esporte Brasil (II)', \n",
    "              x='Sport', \n",
    "              figsize=(15, 8),\n",
    "              rotation=-60, \n",
    "              xlabel='Esportes')\n"
   ]
  },
  {
   "cell_type": "markdown",
   "metadata": {},
   "source": [
    "Mais um gráfico de barras empilhadas: agora mostre os **eventos esportivos** que renderam medalhas para o Brasil.\n",
    "\n",
    "Lembrando: cada \"categoria\" dentro de um esporte é considerado um evento. Por exemplo, dentro de \"atletismo\", temos uma competição de 100m masculina, uma de 100m feminino, um revezamento 4 x 100m masculino, um revezamento 4 x 100m feminino, uma competição de 400m masculino, uma de 400m feminino, uma maratona masculina, uma maratona feminina, e assim sucessivamente."
   ]
  },
  {
   "cell_type": "code",
   "execution_count": null,
   "metadata": {
    "ExecuteTime": {
     "end_time": "2021-10-29T14:12:16.631602Z",
     "start_time": "2021-10-29T14:12:16.618437Z"
    }
   },
   "outputs": [],
   "source": [
    "se_medalhas_por_evento_br = df_medalhas_por_evento_br.groupby(['Event','Medal']).size()\n",
    "\n",
    "df_medalhas_evento_unstack, df_medalhas_evento = cria_dfs_para_graficos(se_medalhas_por_evento_br)"
   ]
  },
  {
   "cell_type": "code",
   "execution_count": null,
   "metadata": {
    "ExecuteTime": {
     "end_time": "2021-10-29T14:12:18.545345Z",
     "start_time": "2021-10-29T14:12:16.633502Z"
    }
   },
   "outputs": [],
   "source": [
    "plot_medalhas_empilhadas(df_medalhas_evento_unstack, \n",
    "                         eixo_x='Event',\n",
    "                         figsize=(12,15), \n",
    "                         title='Medalhas por Evento Brasil (I)',\n",
    "                         xlabel='Total Medalhas',\n",
    "                         ylabel='Event',\n",
    "                         orient='h',\n",
    "                         top= True)"
   ]
  },
  {
   "cell_type": "code",
   "execution_count": null,
   "metadata": {
    "ExecuteTime": {
     "end_time": "2021-10-29T14:12:18.852513Z",
     "start_time": "2021-10-29T14:12:18.547760Z"
    }
   },
   "outputs": [],
   "source": [
    "df_medalhas_evento_3 = df_medalhas_evento_unstack[df_medalhas_evento_unstack['Total Medalhas'] > 3]\n",
    "plot_medalhas_empilhadas(df_medalhas_evento_3, \n",
    "              title='Medalhas dos Eventos Brasil (Filtrado - I)', \n",
    "              eixo_x='Event', \n",
    "              figsize=(15, 8),\n",
    "              rotation=60, \n",
    "              xlabel='Eventos')"
   ]
  },
  {
   "cell_type": "code",
   "execution_count": null,
   "metadata": {
    "ExecuteTime": {
     "end_time": "2021-10-29T14:12:19.245413Z",
     "start_time": "2021-10-29T14:12:18.853634Z"
    }
   },
   "outputs": [],
   "source": [
    "n = 3\n",
    "df_medalhas_evento['Total'] = df_medalhas_evento.groupby('Event')['Qtde'].transform(lambda x: sum(x))\n",
    "\n",
    "df_medalhas_evento_n = df_medalhas_evento[df_medalhas_evento['Total'] > n]\n",
    "plot_medalhas(df_medalhas_evento_n, \n",
    "              title='Medalhas dos Eventos Brasil (Filtrado - II)', \n",
    "              x='Event', \n",
    "              figsize=(15, 8),\n",
    "              rotation=-60, \n",
    "              xlabel='Eventos',\n",
    "              xgrid=True)\n"
   ]
  },
  {
   "cell_type": "markdown",
   "metadata": {},
   "source": [
    "Utilize um gráfico de distribuição (como um histograma, por exemplo) ilustrando a quantidade total de medalhas do Brasil por esporte."
   ]
  },
  {
   "cell_type": "code",
   "execution_count": null,
   "metadata": {
    "ExecuteTime": {
     "end_time": "2021-10-29T14:12:19.442864Z",
     "start_time": "2021-10-29T14:12:19.247545Z"
    }
   },
   "outputs": [],
   "source": [
    "sns.displot(data=df_medalhas_esporte_unstack,x = \"Total Medalhas\", bins=7)\n",
    "plt.title('Distribuição medalhas por esporte (BR)')\n",
    "plt.ylabel('Quantidade de Esportes')\n",
    "plt.xlabel('Quantidade de Medalhas')\n",
    "plt.show()"
   ]
  },
  {
   "cell_type": "markdown",
   "metadata": {},
   "source": [
    "Repita o procedimento acima, mas com medalhas de ouro."
   ]
  },
  {
   "cell_type": "code",
   "execution_count": null,
   "metadata": {
    "ExecuteTime": {
     "end_time": "2021-10-29T14:12:19.775311Z",
     "start_time": "2021-10-29T14:12:19.444546Z"
    }
   },
   "outputs": [],
   "source": [
    "sns.displot(data=df_medalhas_esporte_unstack,x = \"Gold\",bins=7)\n",
    "plt.title('Distribuição medalhas de ouro por esporte (BR)')\n",
    "plt.ylabel('Quantidade de Esportes')\n",
    "plt.xlabel('Quantidade de Ouros')\n",
    "plt.show()"
   ]
  },
  {
   "cell_type": "markdown",
   "metadata": {},
   "source": [
    "Agora faça um gráfico de setores (pizza) mostrando a distribuição de medalhas de ouro do Brasil por esporte."
   ]
  },
  {
   "cell_type": "code",
   "execution_count": null,
   "metadata": {
    "ExecuteTime": {
     "end_time": "2021-10-29T14:12:20.032640Z",
     "start_time": "2021-10-29T14:12:19.776593Z"
    },
    "scrolled": false
   },
   "outputs": [],
   "source": [
    "total_ouros_esporte=df_medalhas_esporte[df_medalhas_esporte['Medal'] == 'Gold']\n",
    "px.pie(total_ouros_esporte, values='Qtde', names='Sport', title='Distribuição medalhas de ouro por esporte (BR)')"
   ]
  },
  {
   "cell_type": "markdown",
   "metadata": {},
   "source": [
    "Para finalizar a história do Brasil, vamos ver a série temporal de medalhas brasileiras. Crie um gráfico de linhas contendo 3 linhas: ouro, prata e bronze. Coloque no eixo X a edição da olimpíada (em ordem cronológica) e no eixo Y o total de medalhas de cada tipo."
   ]
  },
  {
   "cell_type": "code",
   "execution_count": null,
   "metadata": {
    "ExecuteTime": {
     "end_time": "2021-10-29T14:12:20.304005Z",
     "start_time": "2021-10-29T14:12:20.034120Z"
    },
    "scrolled": false
   },
   "outputs": [],
   "source": [
    "df_medalhas_ano = df_medalhas_por_evento_br.groupby(['Year','Medal']).size().reset_index(name='Qtde')\n",
    "plt.figure(figsize=(15,7))\n",
    "sns.lineplot(data = df_medalhas_ano , x = 'Year', y = 'Qtde', hue = 'Medal',ls=':',marker='o',hue_order=cores.keys(), palette=cores);\n",
    "\n",
    "plt.xticks(df_medalhas_ano['Year'].unique(),rotation=60)\n",
    "\n",
    "plt.title('Medalhas do Brasil por Ano');"
   ]
  },
  {
   "cell_type": "code",
   "execution_count": null,
   "metadata": {
    "ExecuteTime": {
     "end_time": "2021-10-29T14:12:20.680142Z",
     "start_time": "2021-10-29T14:12:20.307096Z"
    }
   },
   "outputs": [],
   "source": [
    "df_brasil_participacao = df_evento_br.groupby(['Year','Medal']).size().reset_index(name='Qtde')\n",
    "df_brasil_participacao['Qtde'] = [q if m!='No medal' else 0 for m,q in zip(df_brasil_participacao['Medal'],df_brasil_participacao['Qtde'])]\n",
    "\n",
    "plt.figure(figsize=(15,7))\n",
    "sns.lineplot(data = df_brasil_participacao , x = 'Year', y = 'Qtde', hue = 'Medal',ls=':',marker='o',hue_order=cores.keys(), palette=cores);\n",
    "plt.xlabel('Participações do Brasil nas Olimpíadas')\n",
    "plt.ylabel('Quantidade Medalhas')\n",
    "plt.xticks(df_brasil_participacao['Year'].unique(),rotation=60)\n",
    "plt.tick_params(bottom=True)\n",
    "\n",
    "plt.title('Medalhas do Brasil por Ano (Incluindo anos sem medalhas)');"
   ]
  },
  {
   "cell_type": "markdown",
   "metadata": {},
   "source": [
    "## 2. O mundo nos jogos de verão\n",
    "\n",
    "Filtre o DataFrame original para conter apenas informações sobre os **medalhistas** de todos os países **nos jogos de verão**.\n",
    "\n"
   ]
  },
  {
   "cell_type": "code",
   "execution_count": null,
   "metadata": {
    "ExecuteTime": {
     "end_time": "2021-10-29T14:12:20.745240Z",
     "start_time": "2021-10-29T14:12:20.682369Z"
    }
   },
   "outputs": [],
   "source": [
    "df_medalhistas_verao = df[(df['Medal'] != 'No medal') & (df['Season'] == 'Summer') ]"
   ]
  },
  {
   "cell_type": "markdown",
   "metadata": {},
   "source": [
    "Utilizando subplots, crie 2 boxplots ilustrando a quantidade de medalhas por atleta. Em um deles, considere todos os atletas. No segundo, experimente remover os *outliers*."
   ]
  },
  {
   "cell_type": "code",
   "execution_count": null,
   "metadata": {
    "ExecuteTime": {
     "end_time": "2021-10-29T14:12:20.978030Z",
     "start_time": "2021-10-29T14:12:20.749199Z"
    }
   },
   "outputs": [],
   "source": [
    "fig,(ax1,ax2) = plt.subplots(1,2)\n",
    "qntd_medalhas = df_medalhistas_verao.groupby('Name')['Medal'].size().values\n",
    "ax1.boxplot(qntd_medalhas)\n",
    "ax1.set_title('Medalhas por Atleta (com outliers)')\n",
    "ax2.boxplot(qntd_medalhas, showfliers=False)\n",
    "ax2.set_title('Medalhas por Atleta (sem outliers)')\n",
    "fig.tight_layout()\n",
    "plt.show()"
   ]
  },
  {
   "cell_type": "markdown",
   "metadata": {},
   "source": [
    "Descubra o total de medalhas de ouro de cada país (lembrando-se da restrição dos eventos esportivos, para não contabilizar múltiplas medalhas em esportes de equipe!).\n",
    "\n",
    "Agora pegue os 10 países com mais medalhas e crie uma categoria \"Outros\" para o restante dos países. Exiba um gráfico de pizza mostrando a distribuição de medalhas de ouro entre essas 11 \"equipes\"."
   ]
  },
  {
   "cell_type": "code",
   "execution_count": null,
   "metadata": {
    "ExecuteTime": {
     "end_time": "2021-10-29T14:13:04.401918Z",
     "start_time": "2021-10-29T14:13:04.363243Z"
    }
   },
   "outputs": [],
   "source": [
    "df_ouros_verao = df_medalhistas_verao[df_medalhistas_verao['Medal'] == 'Gold'].drop_duplicates(subset=['Event','Year','Medal'])\n",
    "df_ouros_por_pais = df_ouros_verao.groupby('Team').size().reset_index(name='Gold').sort_values('Gold',ascending=False)\n",
    "df_top10_ouros = df_ouros_por_pais.head(10)\n",
    "df_restante_ouros = df_ouros_por_pais.tail(len(df_ouros_por_pais)-10)\n",
    "df_11_ouros = df_top10_ouros.append(pd.DataFrame([[df_restante_ouros['Gold'].sum(),'Outros']],columns=['Gold','Team']))\n",
    "\n",
    "pull = [0 for _ in range(10)] + [0.05]\n",
    "\n",
    "fig = go.Figure(data=[go.Pie(labels=df_11_ouros['Team'], \n",
    "                             values=df_11_ouros['Gold'], \n",
    "                             pull=pull)])\n",
    "\n",
    "fig.update_layout(title_text='Medalhas de Ouro por País.')\n",
    "fig.show()"
   ]
  },
  {
   "cell_type": "markdown",
   "metadata": {},
   "source": [
    "Repita o procedimento acima, mas mostrando o total de medalhas ao invés de apenas medalhas de ouro."
   ]
  },
  {
   "cell_type": "code",
   "execution_count": null,
   "metadata": {
    "ExecuteTime": {
     "end_time": "2021-10-29T14:13:07.970262Z",
     "start_time": "2021-10-29T14:13:07.938642Z"
    }
   },
   "outputs": [],
   "source": [
    "df_medalhas_verao = df_medalhistas_verao.drop_duplicates(subset=['Event','Year','Medal'])\n",
    "df_medalhas_por_pais = df_medalhas_verao.groupby('Team').size().reset_index(name='Total Medalhas').sort_values('Total Medalhas',ascending=False)\n",
    "df_top10_medalhas = df_medalhas_por_pais.head(10)\n",
    "df_restante_medalhas = df_medalhas_por_pais.tail(len(df_medalhas_por_pais)-10)\n",
    "df_11_medalhas = df_top10_medalhas.append(pd.DataFrame([[df_restante_medalhas['Total Medalhas'].sum(),'Outros']],columns=['Total Medalhas','Team']))\n",
    "\n",
    "fig = go.Figure(data=[go.Pie(labels=df_11_medalhas['Team'], \n",
    "                             values=df_11_medalhas['Total Medalhas'], \n",
    "                             pull=pull)])\n",
    "fig.update_layout(title_text='Medalhas de Ouro por País.')\n",
    "fig.show()"
   ]
  },
  {
   "cell_type": "markdown",
   "metadata": {},
   "source": [
    "Crie um gráfico de barras empilhadas, com cada país das categorias acima no eixo X, total de medalhas no eixo Y, e barras empilhadas representando as medalhas de ouro, prata e bronze de cada país."
   ]
  },
  {
   "cell_type": "code",
   "execution_count": null,
   "metadata": {},
   "outputs": [],
   "source": []
  },
  {
   "cell_type": "markdown",
   "metadata": {},
   "source": [
    "Crie um gráfico de distribuição (por exemplo, um histograma) mostrando a quantidade total de medalhas por país."
   ]
  },
  {
   "cell_type": "code",
   "execution_count": null,
   "metadata": {},
   "outputs": [],
   "source": []
  },
  {
   "cell_type": "markdown",
   "metadata": {},
   "source": [
    "**Desafio bônus:** Crie uma visualização da quantidade de medalhas de ouro e outra para quantidade total de medalhas por país, ambas utilizando mapas. Utilize o tipo de mapa que achar mais adequado."
   ]
  },
  {
   "cell_type": "code",
   "execution_count": null,
   "metadata": {},
   "outputs": [],
   "source": []
  },
  {
   "cell_type": "markdown",
   "metadata": {},
   "source": [
    "## 3. Brasil vs Mundo"
   ]
  },
  {
   "cell_type": "markdown",
   "metadata": {},
   "source": [
    "Faça um gráfico de barras comparando os maiores medalhistas brasileiros com os maiores medalhistas do mundo em suas respectivas categorias.\n",
    "\n",
    "Represente o esporte no eixo X, a quantidade de medalhas no eixo Y, coloque barras lado-a-lado representando os diferentes atletas de uma mesma modalidade e empilhe as medalhas de ouro, prata e bronze de cada atleta."
   ]
  },
  {
   "cell_type": "code",
   "execution_count": null,
   "metadata": {},
   "outputs": [],
   "source": []
  },
  {
   "cell_type": "markdown",
   "metadata": {},
   "source": [
    "Repita o procedimento acima, mas ao invés de atletas, considere o(s) esporte(s) onde o Brasil mais possui medalha comparando-os com o país com maior quantidade de medalhas naquele esporte."
   ]
  },
  {
   "cell_type": "code",
   "execution_count": null,
   "metadata": {},
   "outputs": [],
   "source": []
  },
  {
   "cell_type": "markdown",
   "metadata": {},
   "source": [
    "Para finalizar, repita os gráficos que você gerou com os 10 países com mais medalhas, mas remova o Brasil da categoria \"Outros\" e mostre-o também no gráfico."
   ]
  },
  {
   "cell_type": "code",
   "execution_count": null,
   "metadata": {},
   "outputs": [],
   "source": []
  }
 ],
 "metadata": {
  "kernelspec": {
   "display_name": "Python 3 (ipykernel)",
   "language": "python",
   "name": "python3"
  },
  "language_info": {
   "codemirror_mode": {
    "name": "ipython",
    "version": 3
   },
   "file_extension": ".py",
   "mimetype": "text/x-python",
   "name": "python",
   "nbconvert_exporter": "python",
   "pygments_lexer": "ipython3",
   "version": "3.9.6"
  }
 },
 "nbformat": 4,
 "nbformat_minor": 4
}
